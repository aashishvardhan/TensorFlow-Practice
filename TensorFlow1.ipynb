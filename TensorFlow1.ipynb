{
  "nbformat": 4,
  "nbformat_minor": 0,
  "metadata": {
    "colab": {
      "name": "TensorFlow1.ipynb",
      "provenance": [],
      "include_colab_link": true
    },
    "kernelspec": {
      "name": "python3",
      "display_name": "Python 3"
    },
    "language_info": {
      "name": "python"
    }
  },
  "cells": [
    {
      "cell_type": "markdown",
      "metadata": {
        "id": "view-in-github",
        "colab_type": "text"
      },
      "source": [
        "<a href=\"https://colab.research.google.com/github/aashishvardhan1/TensorFlow-Practice/blob/master/TensorFlow1.ipynb\" target=\"_parent\"><img src=\"https://colab.research.google.com/assets/colab-badge.svg\" alt=\"Open In Colab\"/></a>"
      ]
    },
    {
      "cell_type": "code",
      "metadata": {
        "colab": {
          "base_uri": "https://localhost:8080/"
        },
        "id": "AHWA_h36cucQ",
        "outputId": "71da6fe6-49a7-4d9f-d253-a46be13bea82"
      },
      "source": [
        "%tensorflow_version 2.x\n",
        "import tensorflow as tf\n",
        "print(tf.version)"
      ],
      "execution_count": null,
      "outputs": [
        {
          "output_type": "stream",
          "name": "stdout",
          "text": [
            "<module 'tensorflow._api.v2.version' from '/usr/local/lib/python3.7/dist-packages/tensorflow/_api/v2/version/__init__.py'>\n"
          ]
        }
      ]
    },
    {
      "cell_type": "code",
      "metadata": {
        "id": "FiuNw6UwglBq"
      },
      "source": [
        "string = tf.Variable(\"this is a string\", tf.string)\n",
        "integer = tf.Variable(222, tf.int32)\n",
        "floating = tf.Variable(2.9, tf.float64)"
      ],
      "execution_count": null,
      "outputs": []
    },
    {
      "cell_type": "code",
      "metadata": {
        "id": "XJMg3lqKioGi"
      },
      "source": [
        "rank1_tensor = tf.Variable([1], tf.int32)\n",
        "rank2_tensor = tf.Variable([[1,2,3], [4,5,6]], tf.int32)"
      ],
      "execution_count": null,
      "outputs": []
    },
    {
      "cell_type": "code",
      "metadata": {
        "colab": {
          "base_uri": "https://localhost:8080/"
        },
        "id": "o7OzLucgjB4h",
        "outputId": "984a05a1-0d87-4f2f-8fd5-483e012f912b"
      },
      "source": [
        "tf.rank(rank1_tensor)\n",
        "tf.rank(rank2_tensor)"
      ],
      "execution_count": null,
      "outputs": [
        {
          "output_type": "execute_result",
          "data": {
            "text/plain": [
              "<tf.Tensor: shape=(), dtype=int32, numpy=2>"
            ]
          },
          "metadata": {},
          "execution_count": 4
        }
      ]
    },
    {
      "cell_type": "code",
      "metadata": {
        "colab": {
          "base_uri": "https://localhost:8080/"
        },
        "id": "fLzkS28ZjL73",
        "outputId": "11eeaf54-ef28-43f6-dcc2-e3828456d9e2"
      },
      "source": [
        "rank2_tensor.shape"
      ],
      "execution_count": null,
      "outputs": [
        {
          "output_type": "execute_result",
          "data": {
            "text/plain": [
              "TensorShape([2, 3])"
            ]
          },
          "metadata": {},
          "execution_count": 5
        }
      ]
    },
    {
      "cell_type": "code",
      "metadata": {
        "id": "7FTlm6wKlCi0"
      },
      "source": [
        "t = tf.zeros([5,5,5,5])\n",
        "\n",
        "t = tf.reshape(t, [625])\n",
        "\n",
        "t = tf.reshape(t, [125, -1])\n",
        "# print(t)"
      ],
      "execution_count": null,
      "outputs": []
    }
  ]
}